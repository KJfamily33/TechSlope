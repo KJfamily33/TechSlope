{
  "nbformat": 4,
  "nbformat_minor": 0,
  "metadata": {
    "colab": {
      "name": "Data_cleaning_Address.ipynb",
      "version": "0.3.2",
      "provenance": [],
      "collapsed_sections": [],
      "toc_visible": true
    },
    "kernelspec": {
      "name": "python3",
      "display_name": "Python 3"
    }
  },
  "cells": [
    {
      "metadata": {
        "id": "J8WEb3ttRfV-",
        "colab_type": "text"
      },
      "cell_type": "markdown",
      "source": [
        "# Project Title: Property Usage\n",
        "## By Go Code CO team \"Tech Slope\" - Aaron, Adam, Dex, Juli, Leo, Marc\n",
        "### Version 0.1\n",
        "### Last update: March 26, 2019"
      ]
    },
    {
      "metadata": {
        "id": "_boW9nJuTm0l",
        "colab_type": "code",
        "colab": {}
      },
      "cell_type": "code",
      "source": [
        "## Initiating\n",
        "\n",
        "import pandas as pd\n",
        "import time\n",
        "import numpy as np"
      ],
      "execution_count": 0,
      "outputs": []
    },
    {
      "metadata": {
        "id": "O3-Ip2_kTnU8",
        "colab_type": "text"
      },
      "cell_type": "markdown",
      "source": [
        "### Task 1 Denver Address List\n",
        "Ref: [City and County of Denver Addresses](https://www.denvergov.org/opendata/dataset/city-and-county-of-denver-addresses)\n",
        "(Note: Cannot use OpenAddress because it doesn't offer City and ZIP.)"
      ]
    },
    {
      "metadata": {
        "id": "neDDqzY6RMGE",
        "colab_type": "code",
        "outputId": "dd101542-1651-49a6-e73e-e2388b8e8cb2",
        "colab": {
          "base_uri": "https://localhost:8080/",
          "height": 204
        }
      },
      "cell_type": "code",
      "source": [
        "## Loading\n",
        "df_denadd = pd.read_csv('Address_Denver.csv')\n",
        "df_denadd.head()"
      ],
      "execution_count": 47,
      "outputs": [
        {
          "output_type": "execute_result",
          "data": {
            "text/html": [
              "<div>\n",
              "<style scoped>\n",
              "    .dataframe tbody tr th:only-of-type {\n",
              "        vertical-align: middle;\n",
              "    }\n",
              "\n",
              "    .dataframe tbody tr th {\n",
              "        vertical-align: top;\n",
              "    }\n",
              "\n",
              "    .dataframe thead th {\n",
              "        text-align: right;\n",
              "    }\n",
              "</style>\n",
              "<table border=\"1\" class=\"dataframe\">\n",
              "  <thead>\n",
              "    <tr style=\"text-align: right;\">\n",
              "      <th></th>\n",
              "      <th>LON</th>\n",
              "      <th>LAT</th>\n",
              "      <th>NUMBER</th>\n",
              "      <th>STREET</th>\n",
              "      <th>UNIT</th>\n",
              "      <th>CITY</th>\n",
              "      <th>DISTRICT</th>\n",
              "      <th>REGION</th>\n",
              "      <th>POSTCODE</th>\n",
              "      <th>ID</th>\n",
              "      <th>HASH</th>\n",
              "    </tr>\n",
              "  </thead>\n",
              "  <tbody>\n",
              "    <tr>\n",
              "      <th>0</th>\n",
              "      <td>-105.005527</td>\n",
              "      <td>39.739472</td>\n",
              "      <td>1493</td>\n",
              "      <td>N Osage St</td>\n",
              "      <td>Apt 434</td>\n",
              "      <td>NaN</td>\n",
              "      <td>NaN</td>\n",
              "      <td>NaN</td>\n",
              "      <td>NaN</td>\n",
              "      <td>NaN</td>\n",
              "      <td>518b276ea7e17b7f</td>\n",
              "    </tr>\n",
              "    <tr>\n",
              "      <th>1</th>\n",
              "      <td>-105.006164</td>\n",
              "      <td>39.739467</td>\n",
              "      <td>1493</td>\n",
              "      <td>N Osage St</td>\n",
              "      <td>Apt 444</td>\n",
              "      <td>NaN</td>\n",
              "      <td>NaN</td>\n",
              "      <td>NaN</td>\n",
              "      <td>NaN</td>\n",
              "      <td>NaN</td>\n",
              "      <td>359d5431448827fd</td>\n",
              "    </tr>\n",
              "    <tr>\n",
              "      <th>2</th>\n",
              "      <td>-105.005518</td>\n",
              "      <td>39.738827</td>\n",
              "      <td>1493</td>\n",
              "      <td>N Osage St</td>\n",
              "      <td>Apt 573</td>\n",
              "      <td>NaN</td>\n",
              "      <td>NaN</td>\n",
              "      <td>NaN</td>\n",
              "      <td>NaN</td>\n",
              "      <td>NaN</td>\n",
              "      <td>a3d80fc19a7cd080</td>\n",
              "    </tr>\n",
              "    <tr>\n",
              "      <th>3</th>\n",
              "      <td>-105.005936</td>\n",
              "      <td>39.739062</td>\n",
              "      <td>1493</td>\n",
              "      <td>N Osage St</td>\n",
              "      <td>Apt 161</td>\n",
              "      <td>NaN</td>\n",
              "      <td>NaN</td>\n",
              "      <td>NaN</td>\n",
              "      <td>NaN</td>\n",
              "      <td>NaN</td>\n",
              "      <td>cbac04ef7bc6fc0f</td>\n",
              "    </tr>\n",
              "    <tr>\n",
              "      <th>4</th>\n",
              "      <td>-105.043347</td>\n",
              "      <td>39.766973</td>\n",
              "      <td>3611</td>\n",
              "      <td>N Stuart St</td>\n",
              "      <td>Spc 1</td>\n",
              "      <td>NaN</td>\n",
              "      <td>NaN</td>\n",
              "      <td>NaN</td>\n",
              "      <td>NaN</td>\n",
              "      <td>NaN</td>\n",
              "      <td>9c9e9a6b1644737f</td>\n",
              "    </tr>\n",
              "  </tbody>\n",
              "</table>\n",
              "</div>"
            ],
            "text/plain": [
              "          LON        LAT NUMBER       STREET     UNIT  CITY  DISTRICT  REGION  \\\n",
              "0 -105.005527  39.739472   1493   N Osage St  Apt 434   NaN       NaN     NaN   \n",
              "1 -105.006164  39.739467   1493   N Osage St  Apt 444   NaN       NaN     NaN   \n",
              "2 -105.005518  39.738827   1493   N Osage St  Apt 573   NaN       NaN     NaN   \n",
              "3 -105.005936  39.739062   1493   N Osage St  Apt 161   NaN       NaN     NaN   \n",
              "4 -105.043347  39.766973   3611  N Stuart St    Spc 1   NaN       NaN     NaN   \n",
              "\n",
              "   POSTCODE  ID              HASH  \n",
              "0       NaN NaN  518b276ea7e17b7f  \n",
              "1       NaN NaN  359d5431448827fd  \n",
              "2       NaN NaN  a3d80fc19a7cd080  \n",
              "3       NaN NaN  cbac04ef7bc6fc0f  \n",
              "4       NaN NaN  9c9e9a6b1644737f  "
            ]
          },
          "metadata": {
            "tags": []
          },
          "execution_count": 47
        }
      ]
    },
    {
      "metadata": {
        "id": "WjJFaw11UuPE",
        "colab_type": "code",
        "outputId": "49f521df-30fb-421c-b7b1-52a351def866",
        "colab": {
          "base_uri": "https://localhost:8080/",
          "height": 204
        }
      },
      "cell_type": "code",
      "source": [
        "## Cleaning\n",
        "### Drop unnecessary columns\n",
        "df_denadd_clean=df_denadd[['LAT','LON','NUMBER','STREET']]\n",
        "df_denadd_clean['FullAddress']=df_denadd_clean['NUMBER'].astype(str)+' '+df_denadd_clean['STREET']\n",
        "### Rename columns and fill in empty data\n",
        "### Use the ZIP for Denver City Hall as a placeholder\n",
        "df_denadd_clean['ZIP']='80202'\n",
        "df_denadd_clean['City']='Denver'\n",
        "df_denadd_clean['State']='CO'\n",
        "df_denadd_clean=df_denadd_clean.rename(index=str, columns={'LAT':'Latitude',\"LON\": \"Longitude\",'NUMBER':'StreetNumber','STREET':'StreetName'})\n",
        "df_denadd_clean.head()"
      ],
      "execution_count": 50,
      "outputs": [
        {
          "output_type": "execute_result",
          "data": {
            "text/html": [
              "<div>\n",
              "<style scoped>\n",
              "    .dataframe tbody tr th:only-of-type {\n",
              "        vertical-align: middle;\n",
              "    }\n",
              "\n",
              "    .dataframe tbody tr th {\n",
              "        vertical-align: top;\n",
              "    }\n",
              "\n",
              "    .dataframe thead th {\n",
              "        text-align: right;\n",
              "    }\n",
              "</style>\n",
              "<table border=\"1\" class=\"dataframe\">\n",
              "  <thead>\n",
              "    <tr style=\"text-align: right;\">\n",
              "      <th></th>\n",
              "      <th>Latitude</th>\n",
              "      <th>Longitude</th>\n",
              "      <th>StreetNumber</th>\n",
              "      <th>StreetName</th>\n",
              "      <th>FullAddress</th>\n",
              "      <th>ZIP</th>\n",
              "      <th>City</th>\n",
              "      <th>State</th>\n",
              "    </tr>\n",
              "  </thead>\n",
              "  <tbody>\n",
              "    <tr>\n",
              "      <th>0</th>\n",
              "      <td>39.739472</td>\n",
              "      <td>-105.005527</td>\n",
              "      <td>1493</td>\n",
              "      <td>N Osage St</td>\n",
              "      <td>1493 N Osage St</td>\n",
              "      <td>80202</td>\n",
              "      <td>Denver</td>\n",
              "      <td>CO</td>\n",
              "    </tr>\n",
              "    <tr>\n",
              "      <th>1</th>\n",
              "      <td>39.739467</td>\n",
              "      <td>-105.006164</td>\n",
              "      <td>1493</td>\n",
              "      <td>N Osage St</td>\n",
              "      <td>1493 N Osage St</td>\n",
              "      <td>80202</td>\n",
              "      <td>Denver</td>\n",
              "      <td>CO</td>\n",
              "    </tr>\n",
              "    <tr>\n",
              "      <th>2</th>\n",
              "      <td>39.738827</td>\n",
              "      <td>-105.005518</td>\n",
              "      <td>1493</td>\n",
              "      <td>N Osage St</td>\n",
              "      <td>1493 N Osage St</td>\n",
              "      <td>80202</td>\n",
              "      <td>Denver</td>\n",
              "      <td>CO</td>\n",
              "    </tr>\n",
              "    <tr>\n",
              "      <th>3</th>\n",
              "      <td>39.739062</td>\n",
              "      <td>-105.005936</td>\n",
              "      <td>1493</td>\n",
              "      <td>N Osage St</td>\n",
              "      <td>1493 N Osage St</td>\n",
              "      <td>80202</td>\n",
              "      <td>Denver</td>\n",
              "      <td>CO</td>\n",
              "    </tr>\n",
              "    <tr>\n",
              "      <th>4</th>\n",
              "      <td>39.766973</td>\n",
              "      <td>-105.043347</td>\n",
              "      <td>3611</td>\n",
              "      <td>N Stuart St</td>\n",
              "      <td>3611 N Stuart St</td>\n",
              "      <td>80202</td>\n",
              "      <td>Denver</td>\n",
              "      <td>CO</td>\n",
              "    </tr>\n",
              "  </tbody>\n",
              "</table>\n",
              "</div>"
            ],
            "text/plain": [
              "    Latitude   Longitude StreetNumber   StreetName       FullAddress    ZIP  \\\n",
              "0  39.739472 -105.005527         1493   N Osage St   1493 N Osage St  80202   \n",
              "1  39.739467 -105.006164         1493   N Osage St   1493 N Osage St  80202   \n",
              "2  39.738827 -105.005518         1493   N Osage St   1493 N Osage St  80202   \n",
              "3  39.739062 -105.005936         1493   N Osage St   1493 N Osage St  80202   \n",
              "4  39.766973 -105.043347         3611  N Stuart St  3611 N Stuart St  80202   \n",
              "\n",
              "     City State  \n",
              "0  Denver    CO  \n",
              "1  Denver    CO  \n",
              "2  Denver    CO  \n",
              "3  Denver    CO  \n",
              "4  Denver    CO  "
            ]
          },
          "metadata": {
            "tags": []
          },
          "execution_count": 50
        }
      ]
    },
    {
      "metadata": {
        "id": "hIagFntUe-7K",
        "colab_type": "code",
        "colab": {
          "base_uri": "https://localhost:8080/",
          "height": 476
        },
        "outputId": "fcbf6dce-0044-419f-e208-336582dd924a"
      },
      "cell_type": "code",
      "source": [
        "print(df_denadd_clean.tail(),'\\n','---------','\\n')\n",
        "print('Shape of the current dataframe:',df_denadd_clean.shape,'\\n')\n",
        "print('Missing value counts:')\n",
        "print(df_denadd_clean.shape[0]-df_denadd_clean.count())"
      ],
      "execution_count": 51,
      "outputs": [
        {
          "output_type": "stream",
          "text": [
            "         Latitude   Longitude StreetNumber     StreetName         FullAddress  \\\n",
            "317847  39.735795 -104.915955         1236  N Krameria St  1236 N Krameria St   \n",
            "317848  39.736245 -104.914814         1260    N Leyden St    1260 N Leyden St   \n",
            "317849  39.729406 -105.012148          800   N Vallejo St    800 N Vallejo St   \n",
            "317850  39.776631 -105.044675         4463     W 44th Ave     4463 W 44th Ave   \n",
            "317851  39.729572 -105.011869         2025      W 8th Ave      2025 W 8th Ave   \n",
            "\n",
            "          ZIP    City State  \n",
            "317847  80202  Denver    CO  \n",
            "317848  80202  Denver    CO  \n",
            "317849  80202  Denver    CO  \n",
            "317850  80202  Denver    CO  \n",
            "317851  80202  Denver    CO   \n",
            " --------- \n",
            "\n",
            "Shape of the current dataframe: (317852, 8) \n",
            "\n",
            "Missing value counts:\n",
            "Latitude        0\n",
            "Longitude       0\n",
            "StreetNumber    0\n",
            "StreetName      0\n",
            "FullAddress     0\n",
            "ZIP             0\n",
            "City            0\n",
            "State           0\n",
            "dtype: int64\n"
          ],
          "name": "stdout"
        }
      ]
    },
    {
      "metadata": {
        "id": "gMpPXg3za_aM",
        "colab_type": "text"
      },
      "cell_type": "markdown",
      "source": [
        "### Task 2 Mesa Address List\n",
        "Ref: [Open Address for Mesa County](http://results.openaddresses.io/sources/us/co/mesa)"
      ]
    },
    {
      "metadata": {
        "id": "QqmaBphDb7ep",
        "colab_type": "code",
        "colab": {
          "base_uri": "https://localhost:8080/",
          "height": 204
        },
        "outputId": "26e7f7ab-2854-4ae9-a769-d353de46c4f7"
      },
      "cell_type": "code",
      "source": [
        "## Loading\n",
        "df_mesaadd = pd.read_csv('Address_Mesa.csv')\n",
        "df_mesaadd.head()"
      ],
      "execution_count": 40,
      "outputs": [
        {
          "output_type": "execute_result",
          "data": {
            "text/html": [
              "<div>\n",
              "<style scoped>\n",
              "    .dataframe tbody tr th:only-of-type {\n",
              "        vertical-align: middle;\n",
              "    }\n",
              "\n",
              "    .dataframe tbody tr th {\n",
              "        vertical-align: top;\n",
              "    }\n",
              "\n",
              "    .dataframe thead th {\n",
              "        text-align: right;\n",
              "    }\n",
              "</style>\n",
              "<table border=\"1\" class=\"dataframe\">\n",
              "  <thead>\n",
              "    <tr style=\"text-align: right;\">\n",
              "      <th></th>\n",
              "      <th>LON</th>\n",
              "      <th>LAT</th>\n",
              "      <th>NUMBER</th>\n",
              "      <th>STREET</th>\n",
              "      <th>UNIT</th>\n",
              "      <th>CITY</th>\n",
              "      <th>DISTRICT</th>\n",
              "      <th>REGION</th>\n",
              "      <th>POSTCODE</th>\n",
              "      <th>ID</th>\n",
              "      <th>HASH</th>\n",
              "    </tr>\n",
              "  </thead>\n",
              "  <tbody>\n",
              "    <tr>\n",
              "      <th>0</th>\n",
              "      <td>-108.889763</td>\n",
              "      <td>38.523159</td>\n",
              "      <td>56500</td>\n",
              "      <td>HWY 141</td>\n",
              "      <td>NaN</td>\n",
              "      <td>GATEWAY</td>\n",
              "      <td>NaN</td>\n",
              "      <td>CO</td>\n",
              "      <td>81522</td>\n",
              "      <td>NaN</td>\n",
              "      <td>4d3a1b198dd6e051</td>\n",
              "    </tr>\n",
              "    <tr>\n",
              "      <th>1</th>\n",
              "      <td>-108.896495</td>\n",
              "      <td>38.534833</td>\n",
              "      <td>55002</td>\n",
              "      <td>HWY 141</td>\n",
              "      <td>NaN</td>\n",
              "      <td>GATEWAY</td>\n",
              "      <td>NaN</td>\n",
              "      <td>CO</td>\n",
              "      <td>81522</td>\n",
              "      <td>NaN</td>\n",
              "      <td>e6a3243bddfb0dd0</td>\n",
              "    </tr>\n",
              "    <tr>\n",
              "      <th>2</th>\n",
              "      <td>-108.838723</td>\n",
              "      <td>38.535193</td>\n",
              "      <td>34165</td>\n",
              "      <td>S 12 8/10 RD</td>\n",
              "      <td>NaN</td>\n",
              "      <td>WHITEWATER</td>\n",
              "      <td>NaN</td>\n",
              "      <td>CO</td>\n",
              "      <td>81527</td>\n",
              "      <td>NaN</td>\n",
              "      <td>c0a53a67b5f4174c</td>\n",
              "    </tr>\n",
              "    <tr>\n",
              "      <th>3</th>\n",
              "      <td>-108.567979</td>\n",
              "      <td>38.541657</td>\n",
              "      <td>30200</td>\n",
              "      <td>UNCOMPAHGRE DIVIDE RD</td>\n",
              "      <td>NaN</td>\n",
              "      <td>WHITEWATER</td>\n",
              "      <td>NaN</td>\n",
              "      <td>CO</td>\n",
              "      <td>815XX</td>\n",
              "      <td>NaN</td>\n",
              "      <td>2d4cc56488cfcefe</td>\n",
              "    </tr>\n",
              "    <tr>\n",
              "      <th>4</th>\n",
              "      <td>-108.921568</td>\n",
              "      <td>38.563368</td>\n",
              "      <td>52248</td>\n",
              "      <td>HWY 141</td>\n",
              "      <td>NaN</td>\n",
              "      <td>GATEWAY</td>\n",
              "      <td>NaN</td>\n",
              "      <td>CO</td>\n",
              "      <td>81522</td>\n",
              "      <td>NaN</td>\n",
              "      <td>b3092d3eda97c0b6</td>\n",
              "    </tr>\n",
              "  </tbody>\n",
              "</table>\n",
              "</div>"
            ],
            "text/plain": [
              "          LON        LAT  NUMBER                 STREET UNIT        CITY  \\\n",
              "0 -108.889763  38.523159   56500                HWY 141  NaN     GATEWAY   \n",
              "1 -108.896495  38.534833   55002                HWY 141  NaN     GATEWAY   \n",
              "2 -108.838723  38.535193   34165           S 12 8/10 RD  NaN  WHITEWATER   \n",
              "3 -108.567979  38.541657   30200  UNCOMPAHGRE DIVIDE RD  NaN  WHITEWATER   \n",
              "4 -108.921568  38.563368   52248                HWY 141  NaN     GATEWAY   \n",
              "\n",
              "   DISTRICT REGION POSTCODE  ID              HASH  \n",
              "0       NaN     CO    81522 NaN  4d3a1b198dd6e051  \n",
              "1       NaN     CO    81522 NaN  e6a3243bddfb0dd0  \n",
              "2       NaN     CO    81527 NaN  c0a53a67b5f4174c  \n",
              "3       NaN     CO    815XX NaN  2d4cc56488cfcefe  \n",
              "4       NaN     CO    81522 NaN  b3092d3eda97c0b6  "
            ]
          },
          "metadata": {
            "tags": []
          },
          "execution_count": 40
        }
      ]
    },
    {
      "metadata": {
        "id": "LTC-AemwcTDY",
        "colab_type": "code",
        "colab": {
          "base_uri": "https://localhost:8080/",
          "height": 204
        },
        "outputId": "ea0738a0-8e80-4824-df40-0e2bfeae70c1"
      },
      "cell_type": "code",
      "source": [
        "## Cleaning\n",
        "### Drop unnecessary columns\n",
        "#### No need for Unit number \n",
        "#### df_mesaadd['FullAddress']=df_mesaadd['NUMBER'].astype(str)+' '+df_mesaadd['STREET']+np.where(pd.isnull(df_mesaadd['UNIT']),'',' # '+df_mesaadd['UNIT'].astype(str))\n",
        "\n",
        "df_mesaadd_clean=df_mesaadd[['LAT','LON','NUMBER','STREET','CITY','REGION','POSTCODE']]\n",
        "df_mesaadd_clean['FullAddress']=df_mesaadd_clean['NUMBER'].astype(str)+' '+df_mesaadd_clean['STREET']\n",
        "### Rename columns\n",
        "df_mesaadd_clean=df_mesaadd_clean.rename(index=str, columns={'LAT':'Latitude',\"LON\": \"Longitude\",'CITY':'City','NUMBER':'StreetNumber','STREET':'StreetName','REGION':'State','POSTCODE':'ZIP'})\n",
        "df_mesaadd_clean.head()"
      ],
      "execution_count": 46,
      "outputs": [
        {
          "output_type": "execute_result",
          "data": {
            "text/html": [
              "<div>\n",
              "<style scoped>\n",
              "    .dataframe tbody tr th:only-of-type {\n",
              "        vertical-align: middle;\n",
              "    }\n",
              "\n",
              "    .dataframe tbody tr th {\n",
              "        vertical-align: top;\n",
              "    }\n",
              "\n",
              "    .dataframe thead th {\n",
              "        text-align: right;\n",
              "    }\n",
              "</style>\n",
              "<table border=\"1\" class=\"dataframe\">\n",
              "  <thead>\n",
              "    <tr style=\"text-align: right;\">\n",
              "      <th></th>\n",
              "      <th>Latitude</th>\n",
              "      <th>Longitude</th>\n",
              "      <th>StreetNumber</th>\n",
              "      <th>StreetName</th>\n",
              "      <th>City</th>\n",
              "      <th>State</th>\n",
              "      <th>ZIP</th>\n",
              "      <th>FullAddress</th>\n",
              "    </tr>\n",
              "  </thead>\n",
              "  <tbody>\n",
              "    <tr>\n",
              "      <th>0</th>\n",
              "      <td>38.523159</td>\n",
              "      <td>-108.889763</td>\n",
              "      <td>56500</td>\n",
              "      <td>HWY 141</td>\n",
              "      <td>GATEWAY</td>\n",
              "      <td>CO</td>\n",
              "      <td>81522</td>\n",
              "      <td>56500 HWY 141</td>\n",
              "    </tr>\n",
              "    <tr>\n",
              "      <th>1</th>\n",
              "      <td>38.534833</td>\n",
              "      <td>-108.896495</td>\n",
              "      <td>55002</td>\n",
              "      <td>HWY 141</td>\n",
              "      <td>GATEWAY</td>\n",
              "      <td>CO</td>\n",
              "      <td>81522</td>\n",
              "      <td>55002 HWY 141</td>\n",
              "    </tr>\n",
              "    <tr>\n",
              "      <th>2</th>\n",
              "      <td>38.535193</td>\n",
              "      <td>-108.838723</td>\n",
              "      <td>34165</td>\n",
              "      <td>S 12 8/10 RD</td>\n",
              "      <td>WHITEWATER</td>\n",
              "      <td>CO</td>\n",
              "      <td>81527</td>\n",
              "      <td>34165 S 12 8/10 RD</td>\n",
              "    </tr>\n",
              "    <tr>\n",
              "      <th>3</th>\n",
              "      <td>38.541657</td>\n",
              "      <td>-108.567979</td>\n",
              "      <td>30200</td>\n",
              "      <td>UNCOMPAHGRE DIVIDE RD</td>\n",
              "      <td>WHITEWATER</td>\n",
              "      <td>CO</td>\n",
              "      <td>815XX</td>\n",
              "      <td>30200 UNCOMPAHGRE DIVIDE RD</td>\n",
              "    </tr>\n",
              "    <tr>\n",
              "      <th>4</th>\n",
              "      <td>38.563368</td>\n",
              "      <td>-108.921568</td>\n",
              "      <td>52248</td>\n",
              "      <td>HWY 141</td>\n",
              "      <td>GATEWAY</td>\n",
              "      <td>CO</td>\n",
              "      <td>81522</td>\n",
              "      <td>52248 HWY 141</td>\n",
              "    </tr>\n",
              "  </tbody>\n",
              "</table>\n",
              "</div>"
            ],
            "text/plain": [
              "    Latitude   Longitude  StreetNumber             StreetName        City  \\\n",
              "0  38.523159 -108.889763         56500                HWY 141     GATEWAY   \n",
              "1  38.534833 -108.896495         55002                HWY 141     GATEWAY   \n",
              "2  38.535193 -108.838723         34165           S 12 8/10 RD  WHITEWATER   \n",
              "3  38.541657 -108.567979         30200  UNCOMPAHGRE DIVIDE RD  WHITEWATER   \n",
              "4  38.563368 -108.921568         52248                HWY 141     GATEWAY   \n",
              "\n",
              "  State    ZIP                  FullAddress  \n",
              "0    CO  81522                56500 HWY 141  \n",
              "1    CO  81522                55002 HWY 141  \n",
              "2    CO  81527           34165 S 12 8/10 RD  \n",
              "3    CO  815XX  30200 UNCOMPAHGRE DIVIDE RD  \n",
              "4    CO  81522                52248 HWY 141  "
            ]
          },
          "metadata": {
            "tags": []
          },
          "execution_count": 46
        }
      ]
    },
    {
      "metadata": {
        "id": "oXJDENBsZcUb",
        "colab_type": "code",
        "outputId": "5dfb9a9c-7d6b-4cc7-87f1-ec40b53a6a99",
        "colab": {
          "base_uri": "https://localhost:8080/",
          "height": 323
        }
      },
      "cell_type": "code",
      "source": [
        "print(df_mesaadd_clean.tail(),'\\n','---------','\\n')\n",
        "print('Shape of the current dataframe:',df_mesaadd_clean.shape,'\\n')\n",
        "print('Missing value counts:')\n",
        "print(df_mesaadd_clean.shape[0]-df_mesaadd_clean.count())"
      ],
      "execution_count": 44,
      "outputs": [
        {
          "output_type": "stream",
          "text": [
            "        Latitude   Longitude            FullAddress      City State    ZIP\n",
            "86069  39.356364 -107.585212   2318 DIVIDE CREEK RD  COLLBRAN    CO  816XX\n",
            "86070  39.359693 -107.678560        75239 E HWY 330  COLLBRAN    CO  816XX\n",
            "86071  39.361212 -107.588424  24550 DIVIDE CREEK RD  COLLBRAN    CO  816XX\n",
            "86072  39.364550 -107.643852        75988 E HWY 330  COLLBRAN    CO  816XX\n",
            "86073  39.365940 -107.646237        75995 E HWY 330  COLLBRAN    CO  816XX \n",
            " --------- \n",
            "\n",
            "Shape of the current dataframe: (86074, 6) \n",
            "\n",
            "Missing value counts:\n",
            "Latitude       0\n",
            "Longitude      0\n",
            "FullAddress    0\n",
            "City           0\n",
            "State          0\n",
            "ZIP            0\n",
            "dtype: int64\n"
          ],
          "name": "stdout"
        }
      ]
    },
    {
      "metadata": {
        "id": "JeV_1t-_sES3",
        "colab_type": "text"
      },
      "cell_type": "markdown",
      "source": [
        "### Task 3 Combine datasets"
      ]
    },
    {
      "metadata": {
        "id": "TD_iT6k0Ze_a",
        "colab_type": "code",
        "outputId": "a7408a77-9d30-4d05-f43f-be83bfba5faa",
        "colab": {
          "base_uri": "https://localhost:8080/",
          "height": 272
        }
      },
      "cell_type": "code",
      "source": [
        "df_add_clean=pd.concat([df_denadd_clean,df_mesaadd_clean])\n",
        "print(df_add_clean.tail(),'\\n')\n",
        "print('Shape of the current dataframe:',df_add_clean.shape)"
      ],
      "execution_count": 58,
      "outputs": [
        {
          "output_type": "stream",
          "text": [
            "           City            FullAddress   Latitude   Longitude State  \\\n",
            "86069  COLLBRAN   2318 DIVIDE CREEK RD  39.356364 -107.585212    CO   \n",
            "86070  COLLBRAN        75239 E HWY 330  39.359693 -107.678560    CO   \n",
            "86071  COLLBRAN  24550 DIVIDE CREEK RD  39.361212 -107.588424    CO   \n",
            "86072  COLLBRAN        75988 E HWY 330  39.364550 -107.643852    CO   \n",
            "86073  COLLBRAN        75995 E HWY 330  39.365940 -107.646237    CO   \n",
            "\n",
            "            StreetName StreetNumber    ZIP  \n",
            "86069  DIVIDE CREEK RD         2318  816XX  \n",
            "86070        E HWY 330        75239  816XX  \n",
            "86071  DIVIDE CREEK RD        24550  816XX  \n",
            "86072        E HWY 330        75988  816XX  \n",
            "86073        E HWY 330        75995  816XX   \n",
            "\n",
            "Shape of the current dataframe: (403926, 8)\n"
          ],
          "name": "stdout"
        }
      ]
    },
    {
      "metadata": {
        "id": "rRRikx30ko6W",
        "colab_type": "code",
        "colab": {}
      },
      "cell_type": "code",
      "source": [
        "## Save/Checkpoint\n",
        "def write_checkpoint(df, dfname):\n",
        "  filename=time.strftime(\"%Y%m%d-%H%M\")+' '+ dfname+'.csv'\n",
        "  df.to_csv(filename, index=False)\n",
        "  return\n",
        "\n",
        "def read_checkpoint(filename):\n",
        "    return pd.read_csv(filename,index_col=0)\n",
        "  \n",
        "write_checkpoint(df_add_clean,'df_add_clean')\n",
        "write_checkpoint(df_mesaadd_clean,'df_mesaadd_clean')\n",
        "write_checkpoint(df_denadd_clean,'df_denadd_clean')\n",
        "\n",
        "###### df_pop_clean_aggbyyear=read_checkpoint('20190326-0136 Population_clean.csv')\n",
        "###### df_pop_clean_aggbyyear.head()\n"
      ],
      "execution_count": 0,
      "outputs": []
    }
  ]
}