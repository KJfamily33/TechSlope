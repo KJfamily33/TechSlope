{
  "nbformat": 4,
  "nbformat_minor": 0,
  "metadata": {
    "colab": {
      "name": "Machine Learning - Submission.ipynb",
      "version": "0.3.2",
      "provenance": [],
      "collapsed_sections": [],
      "toc_visible": true
    },
    "kernelspec": {
      "name": "python3",
      "display_name": "Python 3"
    }
  },
  "cells": [
    {
      "cell_type": "markdown",
      "metadata": {
        "id": "J8WEb3ttRfV-",
        "colab_type": "text"
      },
      "source": [
        "# Project Title: Property Usage\n",
        "## By Go Code CO team \"Tech Slope\" - Aaron, Adam, Dex, Leo, Marc\n",
        "### Version 1.1\n",
        "### Last update: May 20, 2019"
      ]
    },
    {
      "cell_type": "code",
      "metadata": {
        "id": "_boW9nJuTm0l",
        "colab_type": "code",
        "outputId": "05c2b6bf-6f11-45d8-93d6-81ddfc7c08f5",
        "colab": {
          "base_uri": "https://localhost:8080/",
          "height": 51
        }
      },
      "source": [
        "### Initiate\n",
        "import pandas as pd\n",
        "import geopandas as gpd\n",
        "import time\n",
        "import numpy as np\n",
        "import matplotlib as plt\n",
        "from matplotlib.path import Path\n",
        "from keras.models import Sequential\n",
        "from keras.layers import Dense\n",
        "from sklearn.preprocessing import LabelEncoder,LabelBinarizer\n",
        "\n",
        "from google.colab import drive\n",
        "drive.mount('/content/gdrive')"
      ],
      "execution_count": 0,
      "outputs": [
        {
          "output_type": "stream",
          "text": [
            "Using TensorFlow backend.\n"
          ],
          "name": "stderr"
        },
        {
          "output_type": "stream",
          "text": [
            "Drive already mounted at /content/gdrive; to attempt to forcibly remount, call drive.mount(\"/content/gdrive\", force_remount=True).\n"
          ],
          "name": "stdout"
        }
      ]
    },
    {
      "cell_type": "markdown",
      "metadata": {
        "id": "KWoCstuE9Dpr",
        "colab_type": "text"
      },
      "source": [
        "## Task 1 Training with Denver Data\n",
        "Main parameters: Area sqft, zoning code <br>\n",
        "Result: Property subtype provided by City of Denver <br>\n",
        "\n",
        "*Note: Although we have processed crime, population, and traffic data, it seems that the only golden features are just the 'zoning code' and 'square footage' to determine the property usage type. We might put these attributes back to the model if we have a series of well-defined subtypes to use.*"
      ]
    },
    {
      "cell_type": "code",
      "metadata": {
        "id": "WLQsPJyG9HfS",
        "colab_type": "code",
        "outputId": "d9847402-7cec-42d3-b3b8-b12a80447f51",
        "colab": {
          "base_uri": "https://localhost:8080/",
          "height": 204
        }
      },
      "source": [
        "## Load data\n",
        "workdir='gdrive/My Drive/GoCode - PropertyUsage/Data processing/'\n",
        "filename=workdir+'Clean Data/DenverParcels_ML.csv'\n",
        "df = pd.read_csv(filename,na_values='None',dtype={\"Area\":np.float64,'PropertySubtype':'category'})\n",
        "residential=['CONDOMINIUM','SINGLE FAMILY','ROWHOUSE']\n",
        "vacant=['VCNT LAND R-X ZONE','VCNT LAND','FINANCIAL C&R']\n",
        "df=df[~df['PropertySubtype'].isin(residential)] ## remove extra types\n",
        "df=df[~df['PropertySubtype'].isin(vacant)] \n",
        "df=df.dropna(axis=0,how='any')\n",
        "subtypelist = df['PropertySubtype'].unique()\n",
        "num_classes = subtypelist.shape[0]\n",
        "\n",
        "## Encode and normalize inputs to 0-1\n",
        "lb = LabelBinarizer()\n",
        "df_Y = lb.fit_transform(df['PropertySubtype'])\n",
        "lb_make = LabelEncoder()\n",
        "df[\"Zoning_Code\"] = lb_make.fit_transform(df[\"ZoningCode\"])\n",
        "df_X = df.drop(columns=['PropertySubtype','ZoningCode'])\n",
        "\n",
        "df_X_max =df_X['Area'].max()\n",
        "df_X_min =df_X['Area'].min()\n",
        "df_X_diff = df_X_max-df_X_min ##27940564\n",
        "df_X['AreaNormalized']=(df_X['Area']-df_X_min)/df_X_diff\n",
        "df_X.drop(columns='Area',inplace=True)\n",
        "df_X.tail()"
      ],
      "execution_count": 0,
      "outputs": [
        {
          "output_type": "execute_result",
          "data": {
            "text/html": [
              "<div>\n",
              "<style scoped>\n",
              "    .dataframe tbody tr th:only-of-type {\n",
              "        vertical-align: middle;\n",
              "    }\n",
              "\n",
              "    .dataframe tbody tr th {\n",
              "        vertical-align: top;\n",
              "    }\n",
              "\n",
              "    .dataframe thead th {\n",
              "        text-align: right;\n",
              "    }\n",
              "</style>\n",
              "<table border=\"1\" class=\"dataframe\">\n",
              "  <thead>\n",
              "    <tr style=\"text-align: right;\">\n",
              "      <th></th>\n",
              "      <th>Zoning_Code</th>\n",
              "      <th>AreaNormalized</th>\n",
              "    </tr>\n",
              "  </thead>\n",
              "  <tbody>\n",
              "    <tr>\n",
              "      <th>231469</th>\n",
              "      <td>27</td>\n",
              "      <td>0.000360</td>\n",
              "    </tr>\n",
              "    <tr>\n",
              "      <th>231490</th>\n",
              "      <td>156</td>\n",
              "      <td>0.000142</td>\n",
              "    </tr>\n",
              "    <tr>\n",
              "      <th>231510</th>\n",
              "      <td>92</td>\n",
              "      <td>0.000636</td>\n",
              "    </tr>\n",
              "    <tr>\n",
              "      <th>231522</th>\n",
              "      <td>108</td>\n",
              "      <td>0.000111</td>\n",
              "    </tr>\n",
              "    <tr>\n",
              "      <th>231663</th>\n",
              "      <td>65</td>\n",
              "      <td>0.000228</td>\n",
              "    </tr>\n",
              "  </tbody>\n",
              "</table>\n",
              "</div>"
            ],
            "text/plain": [
              "        Zoning_Code  AreaNormalized\n",
              "231469           27        0.000360\n",
              "231490          156        0.000142\n",
              "231510           92        0.000636\n",
              "231522          108        0.000111\n",
              "231663           65        0.000228"
            ]
          },
          "metadata": {
            "tags": []
          },
          "execution_count": 64
        }
      ]
    },
    {
      "cell_type": "code",
      "metadata": {
        "id": "fBEbjqSUSLsk",
        "colab_type": "code",
        "outputId": "fef99d48-fbeb-4e48-c80c-7bb73e309431",
        "colab": {
          "base_uri": "https://localhost:8080/",
          "height": 204
        }
      },
      "source": [
        "df"
      ],
      "execution_count": 0,
      "outputs": [
        {
          "output_type": "execute_result",
          "data": {
            "text/html": [
              "<div>\n",
              "<style scoped>\n",
              "    .dataframe tbody tr th:only-of-type {\n",
              "        vertical-align: middle;\n",
              "    }\n",
              "\n",
              "    .dataframe tbody tr th {\n",
              "        vertical-align: top;\n",
              "    }\n",
              "\n",
              "    .dataframe thead th {\n",
              "        text-align: right;\n",
              "    }\n",
              "</style>\n",
              "<table border=\"1\" class=\"dataframe\">\n",
              "  <thead>\n",
              "    <tr style=\"text-align: right;\">\n",
              "      <th></th>\n",
              "      <th>PropertySubtype</th>\n",
              "      <th>ZoningCode</th>\n",
              "      <th>Area</th>\n",
              "      <th>Zoning_Code</th>\n",
              "    </tr>\n",
              "  </thead>\n",
              "  <tbody>\n",
              "    <tr>\n",
              "      <th>231469</th>\n",
              "      <td>APT LOW-RISE&gt;9UNT, WALK-UP</td>\n",
              "      <td>C-MX-5</td>\n",
              "      <td>9890.0</td>\n",
              "      <td>27</td>\n",
              "    </tr>\n",
              "    <tr>\n",
              "      <th>231490</th>\n",
              "      <td>AUTO DEALER MED SHOWROOM</td>\n",
              "      <td>U-MX-3</td>\n",
              "      <td>3909.0</td>\n",
              "      <td>156</td>\n",
              "    </tr>\n",
              "    <tr>\n",
              "      <th>231510</th>\n",
              "      <td>WAREHOUSE</td>\n",
              "      <td>I-MX-5</td>\n",
              "      <td>17449.0</td>\n",
              "      <td>92</td>\n",
              "    </tr>\n",
              "    <tr>\n",
              "      <th>231522</th>\n",
              "      <td>VCNT LAND R-X ZONE</td>\n",
              "      <td>PUD</td>\n",
              "      <td>3045.0</td>\n",
              "      <td>108</td>\n",
              "    </tr>\n",
              "    <tr>\n",
              "      <th>231663</th>\n",
              "      <td>APT W/2 UNITS</td>\n",
              "      <td>E-SU-DX</td>\n",
              "      <td>6250.0</td>\n",
              "      <td>65</td>\n",
              "    </tr>\n",
              "  </tbody>\n",
              "</table>\n",
              "</div>"
            ],
            "text/plain": [
              "                   PropertySubtype    ZoningCode     Area  Zoning_Code\n",
              "231469  APT LOW-RISE>9UNT, WALK-UP  C-MX-5         9890.0           27\n",
              "231490    AUTO DEALER MED SHOWROOM  U-MX-3         3909.0          156\n",
              "231510                   WAREHOUSE  I-MX-5        17449.0           92\n",
              "231522          VCNT LAND R-X ZONE  PUD            3045.0          108\n",
              "231663               APT W/2 UNITS  E-SU-DX        6250.0           65"
            ]
          },
          "metadata": {
            "tags": []
          },
          "execution_count": 65
        }
      ]
    },
    {
      "cell_type": "code",
      "metadata": {
        "id": "ATsUMHMNi-uQ",
        "colab_type": "code",
        "colab": {}
      },
      "source": [
        "# Create a model\n",
        "from keras.models import Sequential\n",
        "from keras.layers import Dense, Activation\n",
        "from keras.layers.normalization import BatchNormalization\n",
        "from keras.utils import to_categorical\n",
        "\n",
        "## Fix random seed for reproducibility\n",
        "seed = 42\n",
        "np.random.seed(seed)\n",
        "\n",
        "from sklearn.model_selection import train_test_split\n",
        "X_train, X_test, Y_train, Y_test= train_test_split(df_X, df_Y, test_size=0.20, random_state=seed)\n",
        "X_cols=X_train.shape[1]\n",
        "\n",
        "\n",
        "def MultilabelClassification_model():\n",
        "### YOUR TURN\n",
        "    # Create a model with 2 convolutional layers and 1 dense layers before the output\n",
        "    # Use Batch Normalization and Adam optimizer\n",
        "    model = Sequential()\n",
        "    model.add(Dense(155, activation='relu', input_shape=(X_cols,)))\n",
        "    model.add(Dense(155, activation='relu'))\n",
        "    model.add(Dense(num_classes))\n",
        "    model.add(BatchNormalization())\n",
        "    ####model.add(Activation('softmax')) # no good result \n",
        "    ####model.compile(loss= 'categorical_crossentropy' , optimizer= 'adam' , metrics=[ 'accuracy' ])\n",
        "    model.add(Activation('sigmoid'))\n",
        "    model.compile(loss= 'binary_crossentropy' , optimizer= 'adam' , metrics=[ 'accuracy' ])\n",
        "    return model\n",
        "# build the model\n",
        "model=MultilabelClassification_model()"
      ],
      "execution_count": 0,
      "outputs": []
    },
    {
      "cell_type": "code",
      "metadata": {
        "id": "VMaFRqPvQkVo",
        "colab_type": "code",
        "outputId": "9b0daeb7-4804-486a-8f63-709705d64372",
        "colab": {
          "base_uri": "https://localhost:8080/",
          "height": 391
        }
      },
      "source": [
        "# Fit the model\n",
        "model.fit(X_train, Y_train, validation_data=(X_test, Y_test), epochs=10, batch_size=200, verbose=2)\n",
        "# Final evaluation of the model\n",
        "scores = model.evaluate(X_test, Y_test, verbose=0)\n",
        "print(\"CNN Error: %.2f%%\" % (100-scores[1]*100)) ## only showing the result from last execution."
      ],
      "execution_count": 0,
      "outputs": [
        {
          "output_type": "stream",
          "text": [
            "Train on 21847 samples, validate on 5462 samples\n",
            "Epoch 1/10\n",
            " - 2s - loss: 0.7708 - acc: 0.5354 - val_loss: 0.7493 - val_acc: 0.5560\n",
            "Epoch 2/10\n",
            " - 1s - loss: 0.6990 - acc: 0.5822 - val_loss: 0.9918 - val_acc: 0.5113\n",
            "Epoch 3/10\n",
            " - 1s - loss: 0.6350 - acc: 0.6456 - val_loss: 0.7242 - val_acc: 0.5814\n",
            "Epoch 4/10\n",
            " - 1s - loss: 0.5773 - acc: 0.7151 - val_loss: 0.5771 - val_acc: 0.7178\n",
            "Epoch 5/10\n",
            " - 1s - loss: 0.5257 - acc: 0.7660 - val_loss: 0.5222 - val_acc: 0.7871\n",
            "Epoch 6/10\n",
            " - 1s - loss: 0.4798 - acc: 0.8253 - val_loss: 0.5139 - val_acc: 0.7228\n",
            "Epoch 7/10\n",
            " - 1s - loss: 0.4398 - acc: 0.9463 - val_loss: 0.4191 - val_acc: 0.9454\n",
            "Epoch 8/10\n",
            " - 1s - loss: 0.4047 - acc: 0.9930 - val_loss: 0.3873 - val_acc: 0.9895\n",
            "Epoch 9/10\n",
            " - 1s - loss: 0.3737 - acc: 0.9933 - val_loss: 0.3619 - val_acc: 0.9910\n",
            "Epoch 10/10\n",
            " - 1s - loss: 0.3464 - acc: 0.9933 - val_loss: 0.3400 - val_acc: 0.9929\n",
            "CNN Error: 0.71%\n"
          ],
          "name": "stdout"
        }
      ]
    },
    {
      "cell_type": "code",
      "metadata": {
        "id": "1M_cKooRSDkF",
        "colab_type": "code",
        "outputId": "07d850b2-5a6a-4b4f-c40c-3f2ca701887a",
        "colab": {
          "base_uri": "https://localhost:8080/",
          "height": 34
        }
      },
      "source": [
        "## Point test\n",
        "code=80 ## Zoning code: G-RO-3, could be vacant land.\n",
        "area= 28000/df_X_diff ## 5540 sqft\n",
        "test=np.array([pd.Series([code, area]),])\n",
        "result=model.predict(test)\n",
        "lb.inverse_transform(result)"
      ],
      "execution_count": 0,
      "outputs": [
        {
          "output_type": "execute_result",
          "data": {
            "text/plain": [
              "array(['OFFICE BLDG'], dtype='<U29')"
            ]
          },
          "metadata": {
            "tags": []
          },
          "execution_count": 79
        }
      ]
    },
    {
      "cell_type": "code",
      "metadata": {
        "id": "XTtHEeT5Q39s",
        "colab_type": "code",
        "outputId": "3efb93da-978a-4731-d9ca-e6f63a5b38b5",
        "colab": {
          "base_uri": "https://localhost:8080/",
          "height": 34
        }
      },
      "source": [
        "code= 92 ## Zoning code: I-MX-5, could be vacant land.\n",
        "area= 3000/df_X_diff ## 5540 sqft\n",
        "test=np.array([pd.Series([code, area]),])\n",
        "result=model.predict(test)\n",
        "lb.inverse_transform(result)"
      ],
      "execution_count": 0,
      "outputs": [
        {
          "output_type": "execute_result",
          "data": {
            "text/plain": [
              "array(['P.I. SERVICE STATION'], dtype='<U29')"
            ]
          },
          "metadata": {
            "tags": []
          },
          "execution_count": 88
        }
      ]
    },
    {
      "cell_type": "markdown",
      "metadata": {
        "id": "jzbd89osKH-n",
        "colab_type": "text"
      },
      "source": [
        ""
      ]
    },
    {
      "cell_type": "markdown",
      "metadata": {
        "id": "O3-Ip2_kTnU8",
        "colab_type": "text"
      },
      "source": [
        "## Task 2 Prepare final data (non-residential)\n"
      ]
    },
    {
      "cell_type": "code",
      "metadata": {
        "id": "neDDqzY6RMGE",
        "colab_type": "code",
        "outputId": "13ec1b93-9fcc-4451-959f-3691305ec79d",
        "colab": {
          "base_uri": "https://localhost:8080/",
          "height": 221
        }
      },
      "source": [
        "## Match Opportunity Zones\n",
        "df_mesazone = pd.read_csv('Address_Mesa_Cleaned.csv',dtype={'StreetNumber':str}) ## 49849 rows\n",
        "df_mesazone['OppZoneGeoID']='0'\n",
        "df_mesazone['EntZone']=False\n",
        "df_mesazone['ZoningCode']='0'\n",
        "df_mesazone.head()"
      ],
      "execution_count": 0,
      "outputs": [
        {
          "output_type": "execute_result",
          "data": {
            "text/html": [
              "<div>\n",
              "<style scoped>\n",
              "    .dataframe tbody tr th:only-of-type {\n",
              "        vertical-align: middle;\n",
              "    }\n",
              "\n",
              "    .dataframe tbody tr th {\n",
              "        vertical-align: top;\n",
              "    }\n",
              "\n",
              "    .dataframe thead th {\n",
              "        text-align: right;\n",
              "    }\n",
              "</style>\n",
              "<table border=\"1\" class=\"dataframe\">\n",
              "  <thead>\n",
              "    <tr style=\"text-align: right;\">\n",
              "      <th></th>\n",
              "      <th>Latitude</th>\n",
              "      <th>Longitude</th>\n",
              "      <th>StreetNumber</th>\n",
              "      <th>StreetName</th>\n",
              "      <th>Unit</th>\n",
              "      <th>City</th>\n",
              "      <th>State</th>\n",
              "      <th>ZIP</th>\n",
              "      <th>FullAddress</th>\n",
              "      <th>OppZoneGeoID</th>\n",
              "      <th>EntZone</th>\n",
              "      <th>ZoningCode</th>\n",
              "    </tr>\n",
              "  </thead>\n",
              "  <tbody>\n",
              "    <tr>\n",
              "      <th>0</th>\n",
              "      <td>38.523159</td>\n",
              "      <td>-108.889763</td>\n",
              "      <td>56500</td>\n",
              "      <td>HWY 141</td>\n",
              "      <td>NaN</td>\n",
              "      <td>GATEWAY</td>\n",
              "      <td>CO</td>\n",
              "      <td>81522</td>\n",
              "      <td>56500 HWY 141</td>\n",
              "      <td>0</td>\n",
              "      <td>False</td>\n",
              "      <td>0</td>\n",
              "    </tr>\n",
              "    <tr>\n",
              "      <th>1</th>\n",
              "      <td>38.534833</td>\n",
              "      <td>-108.896495</td>\n",
              "      <td>55002</td>\n",
              "      <td>HWY 141</td>\n",
              "      <td>NaN</td>\n",
              "      <td>GATEWAY</td>\n",
              "      <td>CO</td>\n",
              "      <td>81522</td>\n",
              "      <td>55002 HWY 141</td>\n",
              "      <td>0</td>\n",
              "      <td>False</td>\n",
              "      <td>0</td>\n",
              "    </tr>\n",
              "    <tr>\n",
              "      <th>2</th>\n",
              "      <td>38.535193</td>\n",
              "      <td>-108.838723</td>\n",
              "      <td>34165</td>\n",
              "      <td>S 12 8/10 RD</td>\n",
              "      <td>NaN</td>\n",
              "      <td>WHITEWATER</td>\n",
              "      <td>CO</td>\n",
              "      <td>81527</td>\n",
              "      <td>34165 S 12 8/10 RD</td>\n",
              "      <td>0</td>\n",
              "      <td>False</td>\n",
              "      <td>0</td>\n",
              "    </tr>\n",
              "    <tr>\n",
              "      <th>3</th>\n",
              "      <td>38.541657</td>\n",
              "      <td>-108.567979</td>\n",
              "      <td>30200</td>\n",
              "      <td>UNCOMPAHGRE DIVIDE RD</td>\n",
              "      <td>NaN</td>\n",
              "      <td>WHITEWATER</td>\n",
              "      <td>CO</td>\n",
              "      <td>815XX</td>\n",
              "      <td>30200 UNCOMPAHGRE DIVIDE RD</td>\n",
              "      <td>0</td>\n",
              "      <td>False</td>\n",
              "      <td>0</td>\n",
              "    </tr>\n",
              "    <tr>\n",
              "      <th>4</th>\n",
              "      <td>38.563368</td>\n",
              "      <td>-108.921568</td>\n",
              "      <td>52248</td>\n",
              "      <td>HWY 141</td>\n",
              "      <td>NaN</td>\n",
              "      <td>GATEWAY</td>\n",
              "      <td>CO</td>\n",
              "      <td>81522</td>\n",
              "      <td>52248 HWY 141</td>\n",
              "      <td>0</td>\n",
              "      <td>False</td>\n",
              "      <td>0</td>\n",
              "    </tr>\n",
              "  </tbody>\n",
              "</table>\n",
              "</div>"
            ],
            "text/plain": [
              "    Latitude   Longitude StreetNumber             StreetName Unit        City  \\\n",
              "0  38.523159 -108.889763        56500                HWY 141  NaN     GATEWAY   \n",
              "1  38.534833 -108.896495        55002                HWY 141  NaN     GATEWAY   \n",
              "2  38.535193 -108.838723        34165           S 12 8/10 RD  NaN  WHITEWATER   \n",
              "3  38.541657 -108.567979        30200  UNCOMPAHGRE DIVIDE RD  NaN  WHITEWATER   \n",
              "4  38.563368 -108.921568        52248                HWY 141  NaN     GATEWAY   \n",
              "\n",
              "  State    ZIP                  FullAddress OppZoneGeoID  EntZone ZoningCode  \n",
              "0    CO  81522                56500 HWY 141            0    False          0  \n",
              "1    CO  81522                55002 HWY 141            0    False          0  \n",
              "2    CO  81527           34165 S 12 8/10 RD            0    False          0  \n",
              "3    CO  815XX  30200 UNCOMPAHGRE DIVIDE RD            0    False          0  \n",
              "4    CO  81522                52248 HWY 141            0    False          0  "
            ]
          },
          "metadata": {
            "tags": []
          },
          "execution_count": 11
        }
      ]
    },
    {
      "cell_type": "code",
      "metadata": {
        "id": "NFdAvnT_Hlja",
        "colab_type": "code",
        "outputId": "81cb8312-de72-4de4-c960-3cadd3e1a205",
        "colab": {
          "base_uri": "https://localhost:8080/",
          "height": 629
        }
      },
      "source": [
        "for i in range(len(df_mesazone)):\n",
        "    point=Point(df_mesazone['Longitude'][i],df_mesazone['Latitude'][i])\n",
        "    for j in range(len(df_opp)): \n",
        "        if df_opp['geometry'][j].contains(point):\n",
        "            df_mesazone['OppZoneGeoID'][i]= df_opp['GEOID'][j]\n",
        "            break\n",
        "##    if (i%1000==0)and(df_mesazone['OppZoneGeoID'][i]!='0'): print(i,df_mesazone['OppZoneGeoID'][i])      \n"
      ],
      "execution_count": 0,
      "outputs": [
        {
          "output_type": "stream",
          "text": [
            "/usr/local/lib/python3.6/dist-packages/ipykernel_launcher.py:6: SettingWithCopyWarning: \n",
            "A value is trying to be set on a copy of a slice from a DataFrame\n",
            "\n",
            "See the caveats in the documentation: http://pandas.pydata.org/pandas-docs/stable/indexing.html#indexing-view-versus-copy\n",
            "  \n"
          ],
          "name": "stderr"
        },
        {
          "output_type": "stream",
          "text": [
            "13000 08077000800\n",
            "14000 08077000800\n",
            "15000 08077000900\n",
            "17000 08077000200\n",
            "19000 08077000800\n",
            "21000 08077000800\n",
            "25000 08077000200\n",
            "28000 08077000800\n",
            "29000 08077000700\n",
            "30000 08077000500\n",
            "31000 08077000800\n",
            "34000 08077000500\n",
            "37000 08077000400\n",
            "41000 08077000400\n",
            "47000 08077000400\n",
            "48000 08077000400\n"
          ],
          "name": "stdout"
        },
        {
          "output_type": "execute_result",
          "data": {
            "text/html": [
              "<div>\n",
              "<style scoped>\n",
              "    .dataframe tbody tr th:only-of-type {\n",
              "        vertical-align: middle;\n",
              "    }\n",
              "\n",
              "    .dataframe tbody tr th {\n",
              "        vertical-align: top;\n",
              "    }\n",
              "\n",
              "    .dataframe thead th {\n",
              "        text-align: right;\n",
              "    }\n",
              "</style>\n",
              "<table border=\"1\" class=\"dataframe\">\n",
              "  <thead>\n",
              "    <tr style=\"text-align: right;\">\n",
              "      <th></th>\n",
              "      <th>Latitude</th>\n",
              "      <th>Longitude</th>\n",
              "      <th>StreetNumber</th>\n",
              "      <th>StreetName</th>\n",
              "      <th>Unit</th>\n",
              "      <th>City</th>\n",
              "      <th>State</th>\n",
              "      <th>ZIP</th>\n",
              "      <th>FullAddress</th>\n",
              "      <th>OppZoneGeoID</th>\n",
              "      <th>EntZone</th>\n",
              "      <th>ZoningCode</th>\n",
              "    </tr>\n",
              "  </thead>\n",
              "  <tbody>\n",
              "    <tr>\n",
              "      <th>49844</th>\n",
              "      <td>39.089047</td>\n",
              "      <td>-108.553640</td>\n",
              "      <td>1156.0</td>\n",
              "      <td>BOOKCLIFF AVE</td>\n",
              "      <td>12</td>\n",
              "      <td>GRAND JUNCTION</td>\n",
              "      <td>CO</td>\n",
              "      <td>81501</td>\n",
              "      <td>1156.0 BOOKCLIFF AVE</td>\n",
              "      <td>08077000500</td>\n",
              "      <td>False</td>\n",
              "      <td>N/A</td>\n",
              "    </tr>\n",
              "    <tr>\n",
              "      <th>49845</th>\n",
              "      <td>39.087296</td>\n",
              "      <td>-108.471576</td>\n",
              "      <td>550.0</td>\n",
              "      <td>WARRIOR WAY</td>\n",
              "      <td>302</td>\n",
              "      <td>GRAND JUNCTION</td>\n",
              "      <td>CO</td>\n",
              "      <td>81504</td>\n",
              "      <td>550.0 WARRIOR WAY</td>\n",
              "      <td>00000000000</td>\n",
              "      <td>False</td>\n",
              "      <td>N/A</td>\n",
              "    </tr>\n",
              "    <tr>\n",
              "      <th>49846</th>\n",
              "      <td>39.088367</td>\n",
              "      <td>-108.521428</td>\n",
              "      <td>2864.0</td>\n",
              "      <td>PRESLEY AVE</td>\n",
              "      <td>NaN</td>\n",
              "      <td>GRAND JUNCTION</td>\n",
              "      <td>CO</td>\n",
              "      <td>81501</td>\n",
              "      <td>2864.0 PRESLEY AVE</td>\n",
              "      <td>00000000000</td>\n",
              "      <td>False</td>\n",
              "      <td>N/A</td>\n",
              "    </tr>\n",
              "    <tr>\n",
              "      <th>49847</th>\n",
              "      <td>39.087289</td>\n",
              "      <td>-108.471221</td>\n",
              "      <td>550.0</td>\n",
              "      <td>WARRIOR WAY</td>\n",
              "      <td>312</td>\n",
              "      <td>GRAND JUNCTION</td>\n",
              "      <td>CO</td>\n",
              "      <td>81504</td>\n",
              "      <td>550.0 WARRIOR WAY</td>\n",
              "      <td>00000000000</td>\n",
              "      <td>False</td>\n",
              "      <td>N/A</td>\n",
              "    </tr>\n",
              "    <tr>\n",
              "      <th>49848</th>\n",
              "      <td>NaN</td>\n",
              "      <td>-108.000000</td>\n",
              "      <td>NaN</td>\n",
              "      <td>NaN</td>\n",
              "      <td>NaN</td>\n",
              "      <td>NaN</td>\n",
              "      <td>NaN</td>\n",
              "      <td>NaN</td>\n",
              "      <td>NaN</td>\n",
              "      <td>00000000000</td>\n",
              "      <td>False</td>\n",
              "      <td>N/A</td>\n",
              "    </tr>\n",
              "  </tbody>\n",
              "</table>\n",
              "</div>"
            ],
            "text/plain": [
              "        Latitude   Longitude  StreetNumber     StreetName Unit  \\\n",
              "49844  39.089047 -108.553640        1156.0  BOOKCLIFF AVE   12   \n",
              "49845  39.087296 -108.471576         550.0    WARRIOR WAY  302   \n",
              "49846  39.088367 -108.521428        2864.0    PRESLEY AVE  NaN   \n",
              "49847  39.087289 -108.471221         550.0    WARRIOR WAY  312   \n",
              "49848        NaN -108.000000           NaN            NaN  NaN   \n",
              "\n",
              "                 City State    ZIP           FullAddress OppZoneGeoID  \\\n",
              "49844  GRAND JUNCTION    CO  81501  1156.0 BOOKCLIFF AVE  08077000500   \n",
              "49845  GRAND JUNCTION    CO  81504     550.0 WARRIOR WAY  00000000000   \n",
              "49846  GRAND JUNCTION    CO  81501    2864.0 PRESLEY AVE  00000000000   \n",
              "49847  GRAND JUNCTION    CO  81504     550.0 WARRIOR WAY  00000000000   \n",
              "49848             NaN   NaN    NaN                   NaN  00000000000   \n",
              "\n",
              "       EntZone ZoningCode  \n",
              "49844    False        N/A  \n",
              "49845    False        N/A  \n",
              "49846    False        N/A  \n",
              "49847    False        N/A  \n",
              "49848    False        N/A  "
            ]
          },
          "metadata": {
            "tags": []
          },
          "execution_count": 13
        }
      ]
    },
    {
      "cell_type": "code",
      "metadata": {
        "id": "wPZnc10FzKmH",
        "colab_type": "code",
        "colab": {}
      },
      "source": [
        "### Match enterprise zones:\n",
        "for i in range(len(df_mesazone)):\n",
        "    point=Point(df_mesazone['Longitude'][i],df_mesazone['Latitude'][i])\n",
        "    for j in range(len(df_ent)): \n",
        "        if df_ent['geometry'][j].contains(point):\n",
        "            df_mesazone['EntZone'][i]= True\n",
        "            break\n",
        "    if (i%1000==0)and(df_mesazone['EntZone'][i]==True): print(i,df_mesazone['EntZone'][i])  "
      ],
      "execution_count": 0,
      "outputs": []
    },
    {
      "cell_type": "code",
      "metadata": {
        "id": "X2SR9ZovCkYQ",
        "colab_type": "code",
        "outputId": "4bf6f909-d803-460e-a0ee-4bdf14de8395",
        "colab": {
          "base_uri": "https://localhost:8080/",
          "height": 266
        }
      },
      "source": [
        "def write_checkpoint(df, dfname):\n",
        "  filename=time.strftime(\"%Y%m%d-%H%M\")+' '+ dfname+'.csv'\n",
        "  df.to_csv(filename, index=False)\n",
        "  return\n",
        "\n",
        "def read_checkpoint(filename):\n",
        "    return pd.read_csv(filename,index_col=0)\n",
        "  \n",
        "write_checkpoint(df_mesazone,'Mesa_Zone')\n",
        "## df_mesazone = pd.read_csv('Mesa_Zone.csv',dtype={\"StreetNumber\":str,'OppZoneGeoID':str})\n",
        "## df_mesazone.head()"
      ],
      "execution_count": 0,
      "outputs": [
        {
          "output_type": "execute_result",
          "data": {
            "text/html": [
              "<div>\n",
              "<style scoped>\n",
              "    .dataframe tbody tr th:only-of-type {\n",
              "        vertical-align: middle;\n",
              "    }\n",
              "\n",
              "    .dataframe tbody tr th {\n",
              "        vertical-align: top;\n",
              "    }\n",
              "\n",
              "    .dataframe thead th {\n",
              "        text-align: right;\n",
              "    }\n",
              "</style>\n",
              "<table border=\"1\" class=\"dataframe\">\n",
              "  <thead>\n",
              "    <tr style=\"text-align: right;\">\n",
              "      <th></th>\n",
              "      <th>Latitude</th>\n",
              "      <th>Longitude</th>\n",
              "      <th>StreetNumber</th>\n",
              "      <th>StreetName</th>\n",
              "      <th>Unit</th>\n",
              "      <th>City</th>\n",
              "      <th>State</th>\n",
              "      <th>ZIP</th>\n",
              "      <th>FullAddress</th>\n",
              "      <th>OppZoneGeoID</th>\n",
              "      <th>EntZone</th>\n",
              "      <th>ZoningCode</th>\n",
              "    </tr>\n",
              "  </thead>\n",
              "  <tbody>\n",
              "    <tr>\n",
              "      <th>0</th>\n",
              "      <td>38.523159</td>\n",
              "      <td>-108.889763</td>\n",
              "      <td>56500</td>\n",
              "      <td>HWY 141</td>\n",
              "      <td>NaN</td>\n",
              "      <td>GATEWAY</td>\n",
              "      <td>CO</td>\n",
              "      <td>81522</td>\n",
              "      <td>56500 HWY 141</td>\n",
              "      <td>00000000000</td>\n",
              "      <td>False</td>\n",
              "      <td>0</td>\n",
              "    </tr>\n",
              "    <tr>\n",
              "      <th>1</th>\n",
              "      <td>38.534833</td>\n",
              "      <td>-108.896495</td>\n",
              "      <td>55002</td>\n",
              "      <td>HWY 141</td>\n",
              "      <td>NaN</td>\n",
              "      <td>GATEWAY</td>\n",
              "      <td>CO</td>\n",
              "      <td>81522</td>\n",
              "      <td>55002 HWY 141</td>\n",
              "      <td>00000000000</td>\n",
              "      <td>False</td>\n",
              "      <td>0</td>\n",
              "    </tr>\n",
              "    <tr>\n",
              "      <th>2</th>\n",
              "      <td>38.535193</td>\n",
              "      <td>-108.838723</td>\n",
              "      <td>34165</td>\n",
              "      <td>S 12 8/10 RD</td>\n",
              "      <td>NaN</td>\n",
              "      <td>WHITEWATER</td>\n",
              "      <td>CO</td>\n",
              "      <td>81527</td>\n",
              "      <td>34165 S 12 8/10 RD</td>\n",
              "      <td>00000000000</td>\n",
              "      <td>False</td>\n",
              "      <td>0</td>\n",
              "    </tr>\n",
              "    <tr>\n",
              "      <th>3</th>\n",
              "      <td>38.541657</td>\n",
              "      <td>-108.567979</td>\n",
              "      <td>30200</td>\n",
              "      <td>UNCOMPAHGRE DIVIDE RD</td>\n",
              "      <td>NaN</td>\n",
              "      <td>WHITEWATER</td>\n",
              "      <td>CO</td>\n",
              "      <td>815XX</td>\n",
              "      <td>30200 UNCOMPAHGRE DIVIDE RD</td>\n",
              "      <td>00000000000</td>\n",
              "      <td>False</td>\n",
              "      <td>0</td>\n",
              "    </tr>\n",
              "    <tr>\n",
              "      <th>4</th>\n",
              "      <td>38.563368</td>\n",
              "      <td>-108.921568</td>\n",
              "      <td>52248</td>\n",
              "      <td>HWY 141</td>\n",
              "      <td>NaN</td>\n",
              "      <td>GATEWAY</td>\n",
              "      <td>CO</td>\n",
              "      <td>81522</td>\n",
              "      <td>52248 HWY 141</td>\n",
              "      <td>00000000000</td>\n",
              "      <td>False</td>\n",
              "      <td>0</td>\n",
              "    </tr>\n",
              "  </tbody>\n",
              "</table>\n",
              "</div>"
            ],
            "text/plain": [
              "    Latitude   Longitude StreetNumber             StreetName Unit        City  \\\n",
              "0  38.523159 -108.889763        56500                HWY 141  NaN     GATEWAY   \n",
              "1  38.534833 -108.896495        55002                HWY 141  NaN     GATEWAY   \n",
              "2  38.535193 -108.838723        34165           S 12 8/10 RD  NaN  WHITEWATER   \n",
              "3  38.541657 -108.567979        30200  UNCOMPAHGRE DIVIDE RD  NaN  WHITEWATER   \n",
              "4  38.563368 -108.921568        52248                HWY 141  NaN     GATEWAY   \n",
              "\n",
              "  State    ZIP                  FullAddress OppZoneGeoID  EntZone  ZoningCode  \n",
              "0    CO  81522                56500 HWY 141  00000000000    False           0  \n",
              "1    CO  81522                55002 HWY 141  00000000000    False           0  \n",
              "2    CO  81527           34165 S 12 8/10 RD  00000000000    False           0  \n",
              "3    CO  815XX  30200 UNCOMPAHGRE DIVIDE RD  00000000000    False           0  \n",
              "4    CO  81522                52248 HWY 141  00000000000    False           0  "
            ]
          },
          "metadata": {
            "tags": []
          },
          "execution_count": 8
        }
      ]
    },
    {
      "cell_type": "code",
      "metadata": {
        "id": "erdfssNHKi2C",
        "colab_type": "code",
        "colab": {}
      },
      "source": [
        "### Match zoning:\n",
        "for i in range(len(df_mesazone)):\n",
        "    point=Point(df_mesazone['Longitude'][i],df_mesazone['Latitude'][i])\n",
        "    for j in range(len(df_zoning_gj)): \n",
        "        if df_zoning_gj['geometry'][j].contains(point):\n",
        "            df_mesazone['ZoningCode'][i]= df_zoning_gj['Name'][j]\n",
        "            if i%1000==0: print(i,j,df_zoning_gj['Name'][j])\n",
        "            break  "
      ],
      "execution_count": 0,
      "outputs": []
    },
    {
      "cell_type": "code",
      "metadata": {
        "id": "0lnYDPEAe3ev",
        "colab_type": "code",
        "colab": {}
      },
      "source": [
        "''' Point Check\n",
        "point=Point(-108.56177,39.0676422)\n",
        "for j in range(len(df_zoning_gj)):  ##1005 records, 10s per point\n",
        "    if df_zoning_gj['geometry'][j].contains(point):\n",
        "        print(df_zoning_gj['Name'][j])\n",
        "df_mesazone.iloc[1109]\n",
        "'''"
      ],
      "execution_count": 0,
      "outputs": []
    },
    {
      "cell_type": "code",
      "metadata": {
        "id": "hIagFntUe-7K",
        "colab_type": "code",
        "colab": {}
      },
      "source": [
        "print(df_mesazone.tail(),'\\n','---------','\\n')\n",
        "print('Shape of the current dataframe:',df_mesazone.shape,'\\n')\n",
        "print('Missing value counts:')\n",
        "print(df_mesazone.shape[0]-df_mesazone.count())"
      ],
      "execution_count": 0,
      "outputs": []
    },
    {
      "cell_type": "code",
      "metadata": {
        "id": "rRRikx30ko6W",
        "colab_type": "code",
        "colab": {}
      },
      "source": [
        "## Save/Checkpoint\n",
        "def write_checkpoint(df, dfname):\n",
        "  filename=time.strftime(\"%Y%m%d-%H%M\")+' '+ dfname+'.csv'\n",
        "  df.to_csv(filename, index=False)\n",
        "  return\n",
        "\n",
        "def read_checkpoint(filename):\n",
        "    return pd.read_csv(filename,index_col=0)\n",
        "  \n",
        "write_checkpoint(df_mesazone,'Mesa_Zone')\n",
        "write_checkpoint(df_denzone,'Denver_Zone')\n",
        "write_checkpoint(df_zone,'Both_Zone')\n",
        "\n",
        "###### df_mesazone=read_checkpoint('20190331-0937 Mesa_Zone.csv')\n",
        "###### df_mesazone.head()\n"
      ],
      "execution_count": 0,
      "outputs": []
    }
  ]
}
